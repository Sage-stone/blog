{
 "cells": [
  {
   "cell_type": "markdown",
   "id": "5eeedc9a-97c5-4015-a81e-dc385af068d4",
   "metadata": {},
   "source": [
    "# \"Welcome to Sagestone!\"\n",
    "> \"Your source for data solutions.\"\n",
    "\n",
    "- toc:true- branch: master\n",
    "- badges: true\n",
    "- comments: true\n",
    "- author: Hamel Husain & Jeremy Howard\n",
    "- categories: [fastpages, jupyter]\n"
   ]
  },
  {
   "cell_type": "markdown",
   "id": "39198ea6-3d1d-40e2-949c-ee986b8704cc",
   "metadata": {},
   "source": [
    "## My blog"
   ]
  },
  {
   "cell_type": "markdown",
   "id": "a142f9c6-51aa-4ceb-9170-f19322481fe1",
   "metadata": {},
   "source": [
    "#### Should deep learning be used for crime prevention?"
   ]
  },
  {
   "cell_type": "code",
   "execution_count": null,
   "id": "c0a2e36b-31c6-4253-b352-88f3e347be72",
   "metadata": {},
   "outputs": [],
   "source": []
  }
 ],
 "metadata": {
  "kernelspec": {
   "display_name": "Python 3 (ipykernel)",
   "language": "python",
   "name": "python3"
  },
  "language_info": {
   "codemirror_mode": {
    "name": "ipython",
    "version": 3
   },
   "file_extension": ".py",
   "mimetype": "text/x-python",
   "name": "python",
   "nbconvert_exporter": "python",
   "pygments_lexer": "ipython3",
   "version": "3.9.6"
  }
 },
 "nbformat": 4,
 "nbformat_minor": 5
}
