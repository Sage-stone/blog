{
 "cells": [
  {
   "cell_type": "markdown",
   "metadata": {
    "id": "YY8hi8fI5CZa"
   },
   "source": [
    "# \"Using Pipelines to preprocess and create a model\"\n",
    "> \"Streamline your model processing\"\n",
    "\n",
    "- toc:true- branch: master\n",
    "- badges: true\n",
    "- comments: true\n",
    "- author: Hamel Husain & Jeremy Howard\n",
    "- categories: [fastpages, jupyter]\n"
   ]
  },
  {
   "cell_type": "markdown",
   "metadata": {
    "id": "PUCbugtR5CZd"
   },
   "source": [
    "# Import the libraries"
   ]
  },
  {
   "cell_type": "code",
   "execution_count": null,
   "metadata": {
    "execution": {
     "iopub.execute_input": "2021-08-26T07:21:34.474812Z",
     "iopub.status.busy": "2021-08-26T07:21:34.474406Z",
     "iopub.status.idle": "2021-08-26T07:21:34.495761Z",
     "shell.execute_reply": "2021-08-26T07:21:34.494569Z",
     "shell.execute_reply.started": "2021-08-26T07:21:34.474779Z"
    },
    "id": "pOzlHwzt5CZe"
   },
   "outputs": [],
   "source": [
    "import matplotlib.pyplot as plt\n",
    "import numpy as np\n",
    "import pandas as pd\n",
    "import seaborn as sns\n",
    "\n",
    "plt.style.use(\"seaborn-whitegrid\")\n",
    "\n",
    "from sklearn.feature_selection import mutual_info_regression\n",
    "from sklearn.model_selection import cross_val_score\n",
    "from sklearn.model_selection import KFold\n",
    "\n",
    "from sklearn.preprocessing import (OrdinalEncoder, StandardScaler, \n",
    "                                   MinMaxScaler, PolynomialFeatures,\n",
    "                                   PowerTransformer)\n",
    "\n",
    "from sklearn.metrics import mean_squared_error, r2_score\n",
    "from sklearn.pipeline import Pipeline\n",
    "from sklearn.compose import ColumnTransformer\n",
    "from scipy import stats\n",
    "from scipy.stats import norm\n",
    "from sklearn.linear_model import Lasso, RidgeCV\n",
    "from sklearn.ensemble import (RandomForestRegressor, AdaBoostRegressor,\n",
    "                             GradientBoostingRegressor, ExtraTreesRegressor)\n",
    "from sklearn.ensemble import VotingRegressor\n",
    "\n",
    "from lightgbm import LGBMRegressor\n",
    "import lightgbm as lgb\n",
    "from sklearn.svm import SVC \n",
    "from xgboost import XGBRegressor\n",
    "%matplotlib inline\n",
    "\n",
    "from bayes_opt import BayesianOptimization\n",
    "from skopt import BayesSearchCV\n",
    "\n",
    "import warnings\n",
    "warnings.filterwarnings('ignore')"
   ]
  },
  {
   "cell_type": "markdown",
   "metadata": {
    "id": "AQa-lTUw5CZf"
   },
   "source": [
    "### Load the Dataset"
   ]
  },
  {
   "cell_type": "code",
   "execution_count": null,
   "metadata": {
    "execution": {
     "iopub.execute_input": "2021-08-26T07:21:35.081362Z",
     "iopub.status.busy": "2021-08-26T07:21:35.080848Z",
     "iopub.status.idle": "2021-08-26T07:21:36.989921Z",
     "shell.execute_reply": "2021-08-26T07:21:36.988821Z",
     "shell.execute_reply.started": "2021-08-26T07:21:35.081318Z"
    },
    "id": "W_h5jfq85CZf"
   },
   "outputs": [],
   "source": [
    "X_full = pd.read_csv(\"../input/30-days-of-ml/train.csv\", index_col='id')\n",
    "X_test_full = pd.read_csv(\"../input/30-days-of-ml/test.csv\", index_col='id')\n",
    "Sample_result = pd.read_csv(\"../input/30-days-of-ml/sample_submission.csv\")"
   ]
  },
  {
   "cell_type": "markdown",
   "metadata": {
    "id": "JxYLWSGF5CZg"
   },
   "source": [
    "#### EDA : Exploratory Data Analysis, this is used for getting a better insight of the data"
   ]
  },
  {
   "cell_type": "code",
   "execution_count": null,
   "metadata": {
    "execution": {
     "iopub.execute_input": "2021-08-26T07:21:36.992933Z",
     "iopub.status.busy": "2021-08-26T07:21:36.992402Z",
     "iopub.status.idle": "2021-08-26T07:21:38.842537Z",
     "shell.execute_reply": "2021-08-26T07:21:38.841509Z",
     "shell.execute_reply.started": "2021-08-26T07:21:36.992881Z"
    },
    "id": "aaUdVEh45CZg"
   },
   "outputs": [],
   "source": [
    "(mu, sigma) = norm.fit(X_full['target'])\n",
    "plt.figure(figsize = (12,6))\n",
    "sns.distplot(X_full['target'], kde=True, hist=True, fit=norm)\n",
    "plt.title('Target Distribution', fontsize=12)\n",
    "plt.legend([f\"mu:{mu}, sigma:{sigma}\"],loc=\"best\")\n",
    "plt.show()"
   ]
  },
  {
   "cell_type": "code",
   "execution_count": null,
   "metadata": {
    "execution": {
     "iopub.execute_input": "2021-08-26T07:21:38.84607Z",
     "iopub.status.busy": "2021-08-26T07:21:38.845307Z",
     "iopub.status.idle": "2021-08-26T07:21:38.861796Z",
     "shell.execute_reply": "2021-08-26T07:21:38.860247Z",
     "shell.execute_reply.started": "2021-08-26T07:21:38.846019Z"
    },
    "id": "y_fCsmlp5CZh"
   },
   "outputs": [],
   "source": [
    "print(f\"Skewness: {X_full['target'].skew()}\")\n",
    "print(f\"Kurtosis: {X_full['target'].kurt()}\")"
   ]
  },
  {
   "cell_type": "markdown",
   "metadata": {
    "id": "HE9c0oXl5CZh"
   },
   "source": [
    "In general skewness should be in range of [-0.5,0.5] and kurtosis in [-2,2]."
   ]
  },
  {
   "cell_type": "code",
   "execution_count": null,
   "metadata": {
    "execution": {
     "iopub.execute_input": "2021-08-26T07:21:38.8654Z",
     "iopub.status.busy": "2021-08-26T07:21:38.86474Z",
     "iopub.status.idle": "2021-08-26T07:21:39.072296Z",
     "shell.execute_reply": "2021-08-26T07:21:39.070915Z",
     "shell.execute_reply.started": "2021-08-26T07:21:38.865338Z"
    },
    "id": "ybASyWIR5CZi"
   },
   "outputs": [],
   "source": [
    "X_full.describe()"
   ]
  },
  {
   "cell_type": "markdown",
   "metadata": {
    "id": "f_IH0RCs5CZi"
   },
   "source": [
    "### Feature Visualisation"
   ]
  },
  {
   "cell_type": "code",
   "execution_count": null,
   "metadata": {
    "execution": {
     "iopub.execute_input": "2021-08-26T07:21:39.074811Z",
     "iopub.status.busy": "2021-08-26T07:21:39.074327Z",
     "iopub.status.idle": "2021-08-26T07:21:41.901955Z",
     "shell.execute_reply": "2021-08-26T07:21:41.900768Z",
     "shell.execute_reply.started": "2021-08-26T07:21:39.07476Z"
    },
    "id": "NOOiHvX-5CZi"
   },
   "outputs": [],
   "source": [
    "num_types = X_full.select_dtypes(include=['int64', 'float64']).columns[:-1]\n",
    "fig, axes = plt.subplots(nrows=7, ncols=2, figsize=(10,25))\n",
    "for indx,feature in enumerate(num_types):\n",
    "    row = indx // 2\n",
    "    col = indx % 2\n",
    "    X_full[num_types[indx]].hist(ax=axes[row,col]);axes[row,col].set_title(f\"{num_types[indx]}\")   "
   ]
  },
  {
   "cell_type": "markdown",
   "metadata": {
    "id": "JdgUGr0s5CZi"
   },
   "source": [
    "### Outlier Detection and Removal "
   ]
  },
  {
   "cell_type": "code",
   "execution_count": null,
   "metadata": {
    "execution": {
     "iopub.execute_input": "2021-08-26T07:21:41.90443Z",
     "iopub.status.busy": "2021-08-26T07:21:41.903756Z",
     "iopub.status.idle": "2021-08-26T07:21:41.92027Z",
     "shell.execute_reply": "2021-08-26T07:21:41.918724Z",
     "shell.execute_reply.started": "2021-08-26T07:21:41.904381Z"
    },
    "id": "7hdY7QxR5CZj"
   },
   "outputs": [],
   "source": [
    "mean = X_full['target'].mean()\n",
    "std = X_full['target'].std()\n",
    "cut_off = std * 3\n",
    "lower, upper = mean - cut_off, mean + cut_off\n",
    "outliers = X_full[(X_full['target'] < lower) | (X_full['target'] > upper)]\n",
    "print(f\"Orginal Dataset size: {X_full.shape}\")\n",
    "#X_full.drop(outliers.index.to_list(), inplace=True)\n",
    "print(f\"Number of outliers: {len(outliers)}\")\n",
    "print(f\"New size: {X_full.shape}\")"
   ]
  },
  {
   "cell_type": "markdown",
   "metadata": {
    "id": "Io1KHWcY5CZk"
   },
   "source": [
    "### Feature Engineering\n",
    "Feature engineering is one of the most important step for any data science problem.   \n",
    "It involves transforming the original raw data in a form which helps the model in learning the given function.  \n",
    "It can include either skipping redundant features or transforming the original feature or adding features.  \n",
    "To get an idea about the features and its relation to the given target two popular tools used are:\n",
    "* Correlation\n",
    "* Mutual Information  \n",
    "\n",
    "While **correlation** is limited to only linear relationships, **mutual information** can be used for any kind of relationships. *Mutual Information* describes how presence of a given features reduces the uncertainty of the target variable. MI is lower bounded by 0 and there is no upper bound. The variables are independent if MI is 0."
   ]
  },
  {
   "cell_type": "code",
   "execution_count": null,
   "metadata": {
    "execution": {
     "iopub.execute_input": "2021-08-26T07:21:41.922778Z",
     "iopub.status.busy": "2021-08-26T07:21:41.922232Z",
     "iopub.status.idle": "2021-08-26T07:21:41.928969Z",
     "shell.execute_reply": "2021-08-26T07:21:41.927638Z",
     "shell.execute_reply.started": "2021-08-26T07:21:41.922733Z"
    },
    "id": "zWiJWzGC5CZk"
   },
   "outputs": [],
   "source": [
    "# features = X_full.drop(['target'], axis=1, inplace=False)\n",
    "# targets = X_full['target'].copy()\n",
    "\n",
    "# for cols in features.select_dtypes(\"object\"):\n",
    "#     features[cols], _ = features[cols].factorize()\n",
    "    \n",
    "# discrete_features = features.dtypes == int\n",
    "\n",
    "# mi_value = mutual_info_regression(features, targets, discrete_features=discrete_features)\n",
    "# mi_value = pd.Series(mi_value, name=\"MI\", index=features.columns)\n",
    "# mi_value = mi_value.sort_values(ascending=True)\n",
    "# width = np.arange(len(mi_value))\n",
    "# ticks = list(mi_value.index)\n",
    "\n",
    "# plt.figure(dpi=100, figsize=(8,5))\n",
    "# plt.barh(width, mi_value)\n",
    "# plt.yticks(width, ticks)\n",
    "# plt.title(\"Mutual Information\")"
   ]
  },
  {
   "cell_type": "markdown",
   "metadata": {
    "id": "LRDz1Dbz5CZl"
   },
   "source": [
    "### Extract Features and Target"
   ]
  },
  {
   "cell_type": "code",
   "execution_count": null,
   "metadata": {
    "execution": {
     "iopub.execute_input": "2021-08-26T07:21:41.931836Z",
     "iopub.status.busy": "2021-08-26T07:21:41.931005Z",
     "iopub.status.idle": "2021-08-26T07:21:41.945676Z",
     "shell.execute_reply": "2021-08-26T07:21:41.944468Z",
     "shell.execute_reply.started": "2021-08-26T07:21:41.931777Z"
    },
    "id": "HvDSa_Pu5CZl"
   },
   "outputs": [],
   "source": [
    "X_full.columns"
   ]
  },
  {
   "cell_type": "code",
   "execution_count": null,
   "metadata": {
    "execution": {
     "iopub.execute_input": "2021-08-26T07:21:41.949951Z",
     "iopub.status.busy": "2021-08-26T07:21:41.949249Z",
     "iopub.status.idle": "2021-08-26T07:21:42.040621Z",
     "shell.execute_reply": "2021-08-26T07:21:42.039358Z",
     "shell.execute_reply.started": "2021-08-26T07:21:41.949916Z"
    },
    "id": "FxoOFCBr5CZl"
   },
   "outputs": [],
   "source": [
    "X_full.dropna(axis=0, subset=['target'], inplace=True)\n",
    "y = X_full['target']\n",
    "X_full.drop(['target'], axis=1, inplace=True)"
   ]
  },
  {
   "cell_type": "markdown",
   "metadata": {
    "id": "adEbk8sj5CZl"
   },
   "source": [
    "#### Taking the top N features"
   ]
  },
  {
   "cell_type": "code",
   "execution_count": null,
   "metadata": {
    "execution": {
     "iopub.execute_input": "2021-08-26T07:21:42.04352Z",
     "iopub.status.busy": "2021-08-26T07:21:42.043034Z",
     "iopub.status.idle": "2021-08-26T07:21:42.054749Z",
     "shell.execute_reply": "2021-08-26T07:21:42.053357Z",
     "shell.execute_reply.started": "2021-08-26T07:21:42.043472Z"
    },
    "id": "bQ81iwkx5CZm"
   },
   "outputs": [],
   "source": [
    "X = X_full\n",
    "X_test = X_test_full"
   ]
  },
  {
   "cell_type": "markdown",
   "metadata": {
    "id": "VfRgYKhf5CZm"
   },
   "source": [
    "### Analyse the Dataset"
   ]
  },
  {
   "cell_type": "code",
   "execution_count": null,
   "metadata": {
    "execution": {
     "iopub.execute_input": "2021-08-26T07:21:42.057786Z",
     "iopub.status.busy": "2021-08-26T07:21:42.056898Z",
     "iopub.status.idle": "2021-08-26T07:21:42.335771Z",
     "shell.execute_reply": "2021-08-26T07:21:42.334335Z",
     "shell.execute_reply.started": "2021-08-26T07:21:42.057739Z"
    },
    "id": "66cuZiK_5CZm"
   },
   "outputs": [],
   "source": [
    "print(f\"Shape of training data: {X.shape}\")\n",
    "missing_values = X.isnull().sum()\n",
    "print(missing_values[missing_values > 0])"
   ]
  },
  {
   "cell_type": "markdown",
   "metadata": {
    "id": "nDtT20of5CZm"
   },
   "source": [
    "### Preprocess the Input Data "
   ]
  },
  {
   "cell_type": "code",
   "execution_count": null,
   "metadata": {
    "execution": {
     "iopub.execute_input": "2021-08-26T07:21:42.338369Z",
     "iopub.status.busy": "2021-08-26T07:21:42.33791Z",
     "iopub.status.idle": "2021-08-26T07:21:42.393535Z",
     "shell.execute_reply": "2021-08-26T07:21:42.391507Z",
     "shell.execute_reply.started": "2021-08-26T07:21:42.33832Z"
    },
    "id": "C0-oeLBK5CZn"
   },
   "outputs": [],
   "source": [
    "num_cols = X.select_dtypes(include=['int64', 'float64']).columns\n",
    "cat_cols = X.select_dtypes(include=['object', 'bool']).columns"
   ]
  },
  {
   "cell_type": "markdown",
   "metadata": {
    "id": "oSuyoDwu5CZn"
   },
   "source": [
    "#### Transform the skewed features to normal distribution"
   ]
  },
  {
   "cell_type": "code",
   "execution_count": null,
   "metadata": {
    "execution": {
     "iopub.execute_input": "2021-08-26T07:21:43.038625Z",
     "iopub.status.busy": "2021-08-26T07:21:43.038214Z",
     "iopub.status.idle": "2021-08-26T07:21:43.117663Z",
     "shell.execute_reply": "2021-08-26T07:21:43.116172Z",
     "shell.execute_reply.started": "2021-08-26T07:21:43.038591Z"
    },
    "id": "Q3tETUoM5CZn"
   },
   "outputs": [],
   "source": [
    "skewed_features = X[num_cols].apply(lambda x: stats.skew(x)).sort_values(ascending=False)\n",
    "skewed_features = skewed_features[abs(skewed_features) > 0.75]\n",
    "print(skewed_features)\n",
    "\n",
    "for f in skewed_features.index:\n",
    "    X[f] = np.log1p(X[f])\n",
    "    X_test[f] = np.log1p(X_test[f])"
   ]
  },
  {
   "cell_type": "code",
   "execution_count": null,
   "metadata": {
    "execution": {
     "iopub.execute_input": "2021-08-26T07:21:44.402824Z",
     "iopub.status.busy": "2021-08-26T07:21:44.402443Z",
     "iopub.status.idle": "2021-08-26T07:21:44.87272Z",
     "shell.execute_reply": "2021-08-26T07:21:44.871237Z",
     "shell.execute_reply.started": "2021-08-26T07:21:44.402791Z"
    },
    "id": "BiFbnlem5CZn"
   },
   "outputs": [],
   "source": [
    "print(\"Number of unique category for each categorical Feature\")\n",
    "for cols in cat_cols:\n",
    "    print(f\"{cols}: {X[cols].nunique()}\")"
   ]
  },
  {
   "cell_type": "code",
   "execution_count": null,
   "metadata": {
    "execution": {
     "iopub.execute_input": "2021-08-26T07:21:45.241612Z",
     "iopub.status.busy": "2021-08-26T07:21:45.241162Z",
     "iopub.status.idle": "2021-08-26T07:21:45.247631Z",
     "shell.execute_reply": "2021-08-26T07:21:45.246137Z",
     "shell.execute_reply.started": "2021-08-26T07:21:45.24157Z"
    },
    "id": "KjI8znAb5CZn"
   },
   "outputs": [],
   "source": [
    "cat_transformer = OrdinalEncoder()\n",
    "num_transformer = StandardScaler()\n",
    "preprocessor = ColumnTransformer(transformers=[\n",
    "    ('cat', cat_transformer, cat_cols),\n",
    "    ('num', num_transformer, num_cols)])"
   ]
  },
  {
   "cell_type": "markdown",
   "metadata": {
    "id": "JOb0JVT95CZo"
   },
   "source": [
    "### Training"
   ]
  },
  {
   "cell_type": "code",
   "execution_count": null,
   "metadata": {
    "execution": {
     "iopub.execute_input": "2021-08-26T07:21:47.4462Z",
     "iopub.status.busy": "2021-08-26T07:21:47.445639Z",
     "iopub.status.idle": "2021-08-26T07:21:47.455922Z",
     "shell.execute_reply": "2021-08-26T07:21:47.453916Z",
     "shell.execute_reply.started": "2021-08-26T07:21:47.446149Z"
    },
    "id": "1BpwaZVa5CZo"
   },
   "outputs": [],
   "source": [
    "def train(model):\n",
    "    \n",
    "    clf = Pipeline(steps=[('preprocessor', preprocessor),\n",
    "                       ('model', model)\n",
    "                     ])\n",
    "\n",
    "    cv = KFold(n_splits=10, shuffle=True, random_state=42)\n",
    "    ypred = 0\n",
    "    total_loss = 0\n",
    "    for train_indx, test_indx in cv.split(X):\n",
    "        X_train, X_val = X.iloc[train_indx], X.iloc[test_indx]\n",
    "        y_train, y_val = y.iloc[train_indx], y.iloc[test_indx]\n",
    "        clf.fit(X_train, y_train)\n",
    "        \n",
    "        yhat = clf.predict(X_val)\n",
    "        score = mean_squared_error(yhat, y_val, squared=False)\n",
    "        print(f\"Loss:{score}\")\n",
    "        ypred += clf.predict(X_test) / 10\n",
    "        total_loss += score / 10\n",
    "        \n",
    "    print(f\"Avg. Loss: {total_loss}\")     \n",
    "    return ypred\n",
    "    "
   ]
  },
  {
   "cell_type": "code",
   "execution_count": null,
   "metadata": {
    "execution": {
     "iopub.execute_input": "2021-08-26T07:21:51.127498Z",
     "iopub.status.busy": "2021-08-26T07:21:51.127032Z"
    },
    "id": "Uxt5OSPz5CZo"
   },
   "outputs": [],
   "source": [
    "model = XGBRegressor(n_estimators= 10000, booster='gbtree', tree_method='gpu_hist', \n",
    "                    learning_rate= 0.034682894846408095, subsample= 0.9219010649982458, max_depth= 3,\n",
    "                    colsample_bytree = 0.11807135201147481, reg_alpha = 36.043214512614476, random_state = 1,\n",
    "                    reg_lambda = 1.224383455634919, n_jobs=-1, min_child_weight=6)\n",
    "\n",
    "final_prediction = train(model)"
   ]
  },
  {
   "cell_type": "markdown",
   "metadata": {
    "id": "LeTSkzCp5CZo"
   },
   "source": [
    "### Final Submission"
   ]
  },
  {
   "cell_type": "code",
   "execution_count": null,
   "metadata": {
    "execution": {
     "iopub.execute_input": "2021-08-26T05:10:48.016258Z",
     "iopub.status.busy": "2021-08-26T05:10:48.015606Z",
     "iopub.status.idle": "2021-08-26T05:10:48.925393Z",
     "shell.execute_reply": "2021-08-26T05:10:48.923957Z",
     "shell.execute_reply.started": "2021-08-26T05:10:48.016212Z"
    },
    "id": "orpG0BMa5CZo"
   },
   "outputs": [],
   "source": [
    "Sample_result['target'] = final_prediction \n",
    "Sample_result.to_csv(\"submission.csv\", index=False)"
   ]
  }
 ],
 "metadata": {
  "colab": {
   "collapsed_sections": [],
   "name": "Copy of 2021-09-11-post.ipynb",
   "provenance": []
  },
  "kernelspec": {
   "display_name": "Python 3 (ipykernel)",
   "language": "python",
   "name": "python3"
  },
  "language_info": {
   "codemirror_mode": {
    "name": "ipython",
    "version": 3
   },
   "file_extension": ".py",
   "mimetype": "text/x-python",
   "name": "python",
   "nbconvert_exporter": "python",
   "pygments_lexer": "ipython3",
   "version": "3.9.6"
  }
 },
 "nbformat": 4,
 "nbformat_minor": 4
}
